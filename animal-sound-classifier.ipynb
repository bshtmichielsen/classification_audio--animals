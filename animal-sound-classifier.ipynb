{
 "cells": [
  {
   "cell_type": "markdown",
   "metadata": {},
   "source": [
    "<h1 style=\"font-size:300%\">ANIMAL SOUND CLASSIFIER</h1>\n"
   ]
  },
  {
   "cell_type": "code",
   "execution_count": 1,
   "metadata": {},
   "outputs": [
    {
     "name": "stdout",
     "output_type": "stream",
     "text": [
      "Versions: python 3.13.2 | torch 2.6.0+cpu | pytorch_lightning 2.5.0.post0\n"
     ]
    }
   ],
   "source": [
    "import csv, pandas, platform, os, seaborn\n",
    "import torch as T \n",
    "import pytorch_lightning as L\n",
    "import torch.utils.data as D\n",
    "import torchmetrics as M\n",
    "\n",
    "data_path = \"data\"\n",
    "\n",
    "T.manual_seed(0)\n",
    "\n",
    "print(\"Versions: python\", platform.python_version(), \"| torch\", T.__version__, \"| pytorch_lightning\", L.__version__)"
   ]
  },
  {
   "cell_type": "code",
   "execution_count": 7,
   "metadata": {},
   "outputs": [],
   "source": [
    "class AudioDataset(D.Dataset):\n",
    "    def __init__(self, path):\n",
    "        self.path = path\n",
    "        self.files = []\n",
    "        self.labels = []\n",
    "        self.classes = []\n",
    "\n",
    "        for folder in os.listdir(path):\n",
    "            folder_path = os.path.join(path, folder)\n",
    "            if os.path.isdir(folder_path):\n",
    "                if folder not in self.classes:\n",
    "                    self.classes.append(folder)\n",
    "                for file in os.listdir(folder_path):\n",
    "                    if file.endswith('.wav'):\n",
    "                        self.files.append(os.path.join(folder_path, file))\n",
    "                        self.labels.append(self.classes.index(folder))\n",
    "\n",
    "    def __len__(self):\n",
    "        return len(self.files)\n",
    "\n",
    "    def __getitem__(self, idx):\n",
    "        file = self.files[idx]\n",
    "        label = self.labels[idx]\n",
    "        audio, sr = librosa.load(file, sr=None)\n",
    "\n",
    "        mfccs = librosa.feature.mfcc(y=audio, sr=sr, n_mfcc=self.n_mfccs)\n",
    "        mfccs_mean = T.mean(T.tensor(mfccs, dtype=T.float32), dim=1)\n",
    "\n",
    "        chroma = librosa.feature.chroma_stft(y=audio, sr=sr)\n",
    "        chroma_mean = T.mean(T.tensor(chroma, dtype=T.float32), dim=1)\n",
    "\n",
    "        spectral_contrast = librosa.feature.spectral_contrast(y=audio, sr=sr)\n",
    "        spectral_contrast_mean = T.mean(T.tensor(spectral_contrast, dtype=T.float32), dim=1)\n",
    "\n",
    "        features = T.cat((mfccs_mean, chroma_mean, spectral_contrast_mean))\n",
    "        return features, label\n",
    "\n",
    "dataset = AudioDataset(data_path)\n"
   ]
  },
  {
   "cell_type": "code",
   "execution_count": 8,
   "metadata": {},
   "outputs": [
    {
     "name": "stdout",
     "output_type": "stream",
     "text": [
      "Created a DataModule with: 124 training items, 61 validation items and 20 test items.\n"
     ]
    }
   ],
   "source": [
    "train, val, test = D.random_split(dataset, [.6, .3, .1])\n",
    "datamodule = L.LightningDataModule.from_datasets(train, val, test, batch_size=32, num_workers=0)\n",
    "print(\"Created a DataModule with:\", len(datamodule.train_dataloader().dataset), \"training items,\", len(datamodule.val_dataloader().dataset), \"validation items and\", len(datamodule.test_dataloader().dataset), \"test items.\")"
   ]
  },
  {
   "cell_type": "code",
   "execution_count": null,
   "metadata": {},
   "outputs": [],
   "source": [
    "from pytorch_lightning import LightningModule\n",
    "from torch import nn\n",
    "from torchmetrics import Accuracy, Precision, Recall\n",
    "\n",
    "class AudioClassifier(L.LightningModule):\n",
    "    def __init__(self, num_features, num_classes):\n",
    "        super().__init__()\n",
    "        self.num_classes = num_classes\n",
    "        self.model = nn.Sequential(\n",
    "            nn.Linear(num_features, 64),\n",
    "            nn.ReLU(),\n",
    "            nn.Linear(64, num_classes)\n",
    "        )\n",
    "        self.criterion = nn.CrossEntropyLoss()\n",
    "        self.accuracy = Accuracy(task=\"multiclass\", num_classes=num_classes, average=\"none\")\n",
    "        self.precision = Precision(task=\"multiclass\", num_classes=num_classes, average=\"none\")\n",
    "        self.recall = Recall(task=\"multiclass\", num_classes=num_classes, average=\"none\")\n",
    "\n",
    "    def forward(self, x):\n",
    "        return self.model(x)\n",
    "\n",
    "    def configure_optimizers(self):\n",
    "        return torch.optim.Adam(self.parameters(), lr=0.001)\n",
    "\n",
    "    def training_step(self, batch):\n",
    "        x, y = batch\n",
    "        logits = self(x)\n",
    "        return self.criterion(logits, y)\n",
    "    \n",
    "    def validation_step(self, batch):\n",
    "        x, y = batch\n",
    "        logits = self(x)\n",
    "        self.log(\"val_loss\", self.criterion(logits, y))\n",
    "\n",
    "    def test_step(self, batch):\n",
    "        x, y = batch\n",
    "        logits = self(x)\n",
    "        preds = logits.argmax(dim=1)\n",
    "        self.accuracy(preds, y)\n",
    "        self.precision(preds, y)\n",
    "        self.recall(preds, y)\n",
    "    \n",
    "    def predict_step(self, batch):\n",
    "        x, y = batch\n",
    "        logits = self(x)\n",
    "        return logits\n",
    "\n",
    "    def on_test_epoch_end(self):\n",
    "        accuracy = self.accuracy.compute()\n",
    "        precision = self.precision.compute()\n",
    "        recall = self.recall.compute()\n",
    "        for i in range(self.num_classes):\n",
    "            self.log(\"test_accuracy_class_\" + str(i), accuracy[i])\n",
    "            self.log(\"test_precision_class_\" + str(i), precision[i])\n",
    "            self.log(\"test_recall_class_\" + str(i), recall[i])\n",
    "\n",
    "num_features = dataset.num_features()\n",
    "num_classes = len(dataset.classes)\n",
    "model = AudioClassifier(num_features, num_classes)"
   ]
  },
  {
   "cell_type": "markdown",
   "metadata": {},
   "source": [
    "# Train\n",
    "\n",
    "Now, let's use the PyTorch Lightning Trainer to train the model with our Data Module. Rather than telling it beforehand how many epochs to train, we use an EarlyStopping callback that stops the training process when the model has reached convergence. Information is logged to a CSV logger that can be used after training to provide evaluation metrics."
   ]
  },
  {
   "cell_type": "code",
   "execution_count": null,
   "metadata": {},
   "outputs": [
    {
     "name": "stderr",
     "output_type": "stream",
     "text": [
      "GPU available: False, used: False\n",
      "TPU available: False, using: 0 TPU cores\n",
      "HPU available: False, using: 0 HPUs\n",
      "\n",
      "  | Name      | Type                | Params | Mode \n",
      "----------------------------------------------------------\n",
      "0 | model     | Sequential          | 2.3 K  | train\n",
      "1 | criterion | CrossEntropyLoss    | 0      | train\n",
      "2 | accuracy  | MulticlassAccuracy  | 0      | train\n",
      "3 | precision | MulticlassPrecision | 0      | train\n",
      "4 | recall    | MulticlassRecall    | 0      | train\n",
      "----------------------------------------------------------\n",
      "2.3 K     Trainable params\n",
      "0         Non-trainable params\n",
      "2.3 K     Total params\n",
      "0.009     Total estimated model params size (MB)\n",
      "8         Modules in train mode\n",
      "0         Modules in eval mode\n"
     ]
    },
    {
     "name": "stdout",
     "output_type": "stream",
     "text": [
      "Sanity Checking: |          | 0/? [00:00<?, ?it/s]"
     ]
    },
    {
     "name": "stderr",
     "output_type": "stream",
     "text": [
      "c:\\Users\\Bas\\AppData\\Local\\Programs\\Python\\Python313\\Lib\\site-packages\\pytorch_lightning\\trainer\\connectors\\data_connector.py:425: The 'val_dataloader' does not have many workers which may be a bottleneck. Consider increasing the value of the `num_workers` argument` to `num_workers=11` in the `DataLoader` to improve performance.\n"
     ]
    },
    {
     "name": "stdout",
     "output_type": "stream",
     "text": [
      "                                                                           "
     ]
    },
    {
     "name": "stderr",
     "output_type": "stream",
     "text": [
      "c:\\Users\\Bas\\AppData\\Local\\Programs\\Python\\Python313\\Lib\\site-packages\\pytorch_lightning\\trainer\\connectors\\data_connector.py:425: The 'train_dataloader' does not have many workers which may be a bottleneck. Consider increasing the value of the `num_workers` argument` to `num_workers=11` in the `DataLoader` to improve performance.\n",
      "c:\\Users\\Bas\\AppData\\Local\\Programs\\Python\\Python313\\Lib\\site-packages\\pytorch_lightning\\loops\\fit_loop.py:310: The number of training batches (4) is smaller than the logging interval Trainer(log_every_n_steps=50). Set a lower value for log_every_n_steps if you want to see logs for the training epoch.\n"
     ]
    },
    {
     "name": "stdout",
     "output_type": "stream",
     "text": [
      "Epoch 4: 100%|██████████| 4/4 [00:02<00:00,  1.35it/s, v_num=20]"
     ]
    },
    {
     "name": "stderr",
     "output_type": "stream",
     "text": [
      "`Trainer.fit` stopped: `max_epochs=5` reached.\n"
     ]
    },
    {
     "name": "stdout",
     "output_type": "stream",
     "text": [
      "Epoch 4: 100%|██████████| 4/4 [00:02<00:00,  1.35it/s, v_num=20]\n"
     ]
    }
   ],
   "source": [
    "from pytorch_lightning.loggers import CSVLogger\n",
    "from pytorch_lightning.callbacks.early_stopping import EarlyStopping\n",
    "from pytorch_lightning import Trainer\n",
    "\n",
    "# Train the model\n",
    "\n",
    "logger = CSVLogger(save_dir=\".\")\n",
    "trainer = Trainer(max_epochs=5, logger=logger)\n",
    "trainer.fit(model, datamodule=datamodule)"
   ]
  },
  {
   "cell_type": "code",
   "execution_count": null,
   "metadata": {},
   "outputs": [
    {
     "data": {
      "image/png": "[encoded data removed]",
      "text/plain": [
       "<Figure size 640x480 with 1 Axes>"
      ]
     },
     "metadata": {},
     "output_type": "display_data"
    }
   ],
   "source": [
    "metrics = pandas.read_csv(os.path.join(trainer.log_dir, \"metrics.csv\"))\n",
    "loss_metrics = metrics[[\"epoch\", \"val_loss\"]].set_index(\"epoch\")\n",
    "plot = loss_metrics.plot()"
   ]
  },
  {
   "cell_type": "markdown",
   "metadata": {},
   "source": [
    "# Test\n",
    "\n",
    "Here we use the Trainer to run the model against the test data and collect the evaluation metrics."
   ]
  },
  {
   "cell_type": "code",
   "execution_count": null,
   "metadata": {},
   "outputs": [
    {
     "name": "stderr",
     "output_type": "stream",
     "text": [
      "c:\\Users\\Bas\\AppData\\Local\\Programs\\Python\\Python313\\Lib\\site-packages\\pytorch_lightning\\trainer\\connectors\\data_connector.py:425: The 'test_dataloader' does not have many workers which may be a bottleneck. Consider increasing the value of the `num_workers` argument` to `num_workers=11` in the `DataLoader` to improve performance.\n"
     ]
    },
    {
     "name": "stdout",
     "output_type": "stream",
     "text": [
      "Testing DataLoader 0: 100%|██████████| 2/2 [00:00<00:00, 11.40it/s] \n"
     ]
    },
    {
     "data": {
      "text/html": [
       "<div>\n",
       "<style scoped>\n",
       "    .dataframe tbody tr th:only-of-type {\n",
       "        vertical-align: middle;\n",
       "    }\n",
       "\n",
       "    .dataframe tbody tr th {\n",
       "        vertical-align: top;\n",
       "    }\n",
       "\n",
       "    .dataframe thead th {\n",
       "        text-align: right;\n",
       "    }\n",
       "</style>\n",
       "<table border=\"1\" class=\"dataframe\">\n",
       "  <thead>\n",
       "    <tr style=\"text-align: right;\">\n",
       "      <th></th>\n",
       "      <th>accuracy</th>\n",
       "      <th>precision</th>\n",
       "      <th>recall</th>\n",
       "    </tr>\n",
       "    <tr>\n",
       "      <th>class</th>\n",
       "      <th></th>\n",
       "      <th></th>\n",
       "      <th></th>\n",
       "    </tr>\n",
       "  </thead>\n",
       "  <tbody>\n",
       "    <tr>\n",
       "      <th>chicken</th>\n",
       "      <td>0.200000</td>\n",
       "      <td>0.250000</td>\n",
       "      <td>0.200000</td>\n",
       "    </tr>\n",
       "    <tr>\n",
       "      <th>cow</th>\n",
       "      <td>0.571429</td>\n",
       "      <td>0.500000</td>\n",
       "      <td>0.571429</td>\n",
       "    </tr>\n",
       "    <tr>\n",
       "      <th>donkey</th>\n",
       "      <td>0.000000</td>\n",
       "      <td>0.000000</td>\n",
       "      <td>0.000000</td>\n",
       "    </tr>\n",
       "    <tr>\n",
       "      <th>frog</th>\n",
       "      <td>0.571429</td>\n",
       "      <td>0.333333</td>\n",
       "      <td>0.571429</td>\n",
       "    </tr>\n",
       "    <tr>\n",
       "      <th>sheep</th>\n",
       "      <td>0.454545</td>\n",
       "      <td>0.625000</td>\n",
       "      <td>0.454545</td>\n",
       "    </tr>\n",
       "  </tbody>\n",
       "</table>\n",
       "</div>"
      ],
      "text/plain": [
       "         accuracy  precision    recall\n",
       "class                                 \n",
       "chicken  0.200000   0.250000  0.200000\n",
       "cow      0.571429   0.500000  0.571429\n",
       "donkey   0.000000   0.000000  0.000000\n",
       "frog     0.571429   0.333333  0.571429\n",
       "sheep    0.454545   0.625000  0.454545"
      ]
     },
     "execution_count": 8,
     "metadata": {},
     "output_type": "execute_result"
    }
   ],
   "source": [
    "scores = trainer.test(model, datamodule=datamodule, verbose=False)\n",
    "accuracies = [scores[0][\"test_accuracy_class_\" + str(i)] for i in range(num_classes)]\n",
    "precisions = [scores[0][\"test_precision_class_\" + str(i)] for i in range(num_classes)]\n",
    "recalls = [scores[0][\"test_recall_class_\" + str(i)] for i in range(num_classes)]\n",
    "df = pandas.DataFrame({\"class\": dataset.classes, \"accuracy\": accuracies, \"precision\": precisions, \"recall\": recalls}).set_index(\"class\")\n",
    "df"
   ]
  },
  {
   "cell_type": "code",
   "execution_count": null,
   "metadata": {},
   "outputs": [
    {
     "name": "stderr",
     "output_type": "stream",
     "text": [
      "c:\\Users\\Bas\\AppData\\Local\\Programs\\Python\\Python313\\Lib\\site-packages\\pytorch_lightning\\trainer\\connectors\\data_connector.py:425: The 'predict_dataloader' does not have many workers which may be a bottleneck. Consider increasing the value of the `num_workers` argument` to `num_workers=11` in the `DataLoader` to improve performance.\n"
     ]
    },
    {
     "name": "stdout",
     "output_type": "stream",
     "text": [
      "['data\\\\donkey\\\\esek_16.wav', 'data\\\\chicken\\\\tavuk_8.wav', 'data\\\\chicken\\\\tavuk_9.wav', 'data\\\\cow\\\\inek_55.wav', 'data\\\\sheep\\\\koyun_20.wav', 'data\\\\sheep\\\\koyun_18.wav', 'data\\\\cow\\\\inek_72.wav', 'data\\\\sheep\\\\koyun_24.wav', 'data\\\\sheep\\\\koyun_16.wav', 'data\\\\sheep\\\\koyun_27.wav', 'data\\\\chicken\\\\tavuk_1.wav', 'data\\\\cow\\\\inek_66.wav', 'data\\\\cow\\\\inek_10.wav', 'data\\\\chicken\\\\tavuk_18.wav', 'data\\\\frog\\\\kurbaga_10.wav', 'data\\\\sheep\\\\koyun_31.wav', 'data\\\\cow\\\\inek_46.wav', 'data\\\\cow\\\\inek_13.wav', 'data\\\\donkey\\\\esek_10.wav', 'data\\\\sheep\\\\koyun_40.wav', 'data\\\\sheep\\\\koyun_19.wav', 'data\\\\sheep\\\\koyun_6.wav', 'data\\\\sheep\\\\koyun_21.wav', 'data\\\\frog\\\\kurbaga_30.wav', 'data\\\\donkey\\\\esek_21.wav', 'data\\\\frog\\\\kurbaga_7.wav', 'data\\\\cow\\\\inek_14.wav', 'data\\\\frog\\\\kurbaga_1.wav', 'data\\\\frog\\\\kurbaga_33.wav', 'data\\\\cow\\\\inek_68.wav', 'data\\\\cow\\\\inek_20.wav', 'data\\\\cow\\\\inek_3.wav', 'data\\\\frog\\\\kurbaga_34.wav', 'data\\\\cow\\\\inek_19.wav', 'data\\\\chicken\\\\tavuk_7.wav', 'data\\\\frog\\\\kurbaga_26.wav', 'data\\\\cow\\\\inek_58.wav', 'data\\\\cow\\\\inek_5.wav', 'data\\\\donkey\\\\esek_24.wav', 'data\\\\cow\\\\inek_28.wav', 'data\\\\sheep\\\\koyun_39.wav']\n",
      "Predicting DataLoader 0: 100%|██████████| 2/2 [00:00<00:00, 14.03it/s] \n",
      "0 data\\donkey\\esek_16.wav donkey chicken\n",
      "1 data\\chicken\\tavuk_8.wav chicken chicken\n",
      "2 data\\chicken\\tavuk_9.wav chicken cow\n",
      "3 data\\cow\\inek_55.wav cow sheep\n",
      "4 data\\sheep\\koyun_20.wav sheep frog\n",
      "5 data\\sheep\\koyun_18.wav sheep frog\n",
      "6 data\\cow\\inek_72.wav cow cow\n",
      "7 data\\sheep\\koyun_24.wav sheep sheep\n",
      "8 data\\sheep\\koyun_16.wav sheep cow\n",
      "9 data\\sheep\\koyun_27.wav sheep sheep\n",
      "10 data\\chicken\\tavuk_1.wav chicken cow\n",
      "11 data\\cow\\inek_66.wav cow cow\n",
      "12 data\\cow\\inek_10.wav cow cow\n",
      "13 data\\chicken\\tavuk_18.wav chicken frog\n",
      "14 data\\frog\\kurbaga_10.wav frog chicken\n",
      "15 data\\sheep\\koyun_31.wav sheep sheep\n",
      "16 data\\cow\\inek_46.wav cow frog\n",
      "17 data\\cow\\inek_13.wav cow cow\n",
      "18 data\\donkey\\esek_10.wav donkey cow\n",
      "19 data\\sheep\\koyun_40.wav sheep cow\n",
      "20 data\\sheep\\koyun_19.wav sheep cow\n",
      "21 data\\sheep\\koyun_6.wav sheep donkey\n",
      "22 data\\sheep\\koyun_21.wav sheep sheep\n",
      "23 data\\frog\\kurbaga_30.wav frog frog\n",
      "24 data\\donkey\\esek_21.wav donkey frog\n",
      "25 data\\frog\\kurbaga_7.wav frog frog\n",
      "26 data\\cow\\inek_14.wav cow chicken\n",
      "27 data\\frog\\kurbaga_1.wav frog frog\n",
      "28 data\\frog\\kurbaga_33.wav frog cow\n",
      "29 data\\cow\\inek_68.wav cow frog\n",
      "30 data\\cow\\inek_20.wav cow frog\n",
      "31 data\\cow\\inek_3.wav cow cow\n",
      "32 data\\frog\\kurbaga_34.wav frog sheep\n",
      "33 data\\cow\\inek_19.wav cow cow\n",
      "34 data\\chicken\\tavuk_7.wav chicken frog\n",
      "35 data\\frog\\kurbaga_26.wav frog frog\n",
      "36 data\\cow\\inek_58.wav cow sheep\n",
      "37 data\\cow\\inek_5.wav cow cow\n",
      "38 data\\donkey\\esek_24.wav donkey cow\n",
      "39 data\\cow\\inek_28.wav cow cow\n",
      "40 data\\sheep\\koyun_39.wav sheep sheep\n"
     ]
    }
   ],
   "source": [
    "test_dataloader = datamodule.test_dataloader()\n",
    "files = [dataset.files[i] for i in test_dataloader.dataset.indices]\n",
    "print(files)\n",
    "\n",
    "preds = trainer.predict(model, dataloaders=test_dataloader)\n",
    "predictions = torch.cat(preds)\n",
    "predictions\n",
    "#images = torch.cat([x for x, y in test_dataloader])\n",
    "labels = torch.cat([y for x, y in test_dataloader])\n",
    "\n",
    "for i, (file, truth, prediction) in enumerate(zip(files, labels, predictions)):\n",
    "    probabilities = torch.softmax(prediction, dim=0)\n",
    "    pred_class = torch.argmax(probabilities)\n",
    "    print(i, file, dataset.classes[truth], dataset.classes[pred_class])"
   ]
  },
  {
   "cell_type": "markdown",
   "metadata": {},
   "source": [
    "# Inference\n",
    "\n",
    "And now run inference on the inference images."
   ]
  },
  {
   "cell_type": "code",
   "execution_count": null,
   "metadata": {},
   "outputs": [],
   "source": [
    "inference_folder = ImageFolder(inference_path, transform=transform)\n",
    "inference_dataloader = DataLoader(inference_folder, batch_size=32, num_workers=int(os.cpu_count()/2), persistent_workers=True)\n",
    "preds = trainer.predict(model, dataloaders=inference_dataloader)"
   ]
  },
  {
   "cell_type": "code",
   "execution_count": null,
   "metadata": {},
   "outputs": [],
   "source": [
    "predictions = torch.cat(preds)\n",
    "images = torch.cat([x for x, y in inference_dataloader])\n",
    "labels = torch.cat([y for x, y in inference_dataloader])\n",
    "\n",
    "fig, axs = plt.subplots(10, 5, figsize=(15, 20))\n",
    "axs = axs.flatten()\n",
    "for i, (image, truth, prediction) in enumerate(zip(images, labels, predictions)):\n",
    "    probabilities = torch.softmax(prediction, dim=0)\n",
    "    pred_class = torch.argmax(probabilities)\n",
    "    pred_prob = probabilities[pred_class].item()\n",
    "    pred_label = classes[pred_class]\n",
    "    truth_label = classes[truth.item()]\n",
    "    axs[i].imshow(image.permute(1, 2, 0).numpy())\n",
    "    axs[i].set_title(pred_label + \" \" + str(round(pred_prob,2)) + \" (\"+ truth_label+\")\", color=\"red\" if pred_label != truth_label else \"black\")\n",
    "    axs[i].axis(\"off\")\n",
    "plt.tight_layout()\n",
    "plt.show()"
   ]
  }
 ],
 "metadata": {
  "kernelspec": {
   "display_name": "Python 3",
   "language": "python",
   "name": "python3"
  },
  "language_info": {
   "codemirror_mode": {
    "name": "ipython",
    "version": 3
   },
   "file_extension": ".py",
   "mimetype": "text/x-python",
   "name": "python",
   "nbconvert_exporter": "python",
   "pygments_lexer": "ipython3",
   "version": "3.13.2"
  }
 },
 "nbformat": 4,
 "nbformat_minor": 2
}
